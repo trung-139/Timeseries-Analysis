{
  "nbformat": 4,
  "nbformat_minor": 0,
  "metadata": {
    "colab": {
      "provenance": []
    },
    "kernelspec": {
      "name": "python3",
      "display_name": "Python 3"
    },
    "language_info": {
      "name": "python"
    }
  },
  "cells": [
    {
      "cell_type": "markdown",
      "source": [
        "# LIBRARY"
      ],
      "metadata": {
        "id": "-tZnAFAU3nlU"
      }
    },
    {
      "cell_type": "code",
      "source": [
        "!pip install keras_tuner"
      ],
      "metadata": {
        "id": "Rv8gOpTO3mwn",
        "colab": {
          "base_uri": "https://localhost:8080/"
        },
        "outputId": "750b3cd2-4b98-4ec8-fa69-20ab7672fc74"
      },
      "execution_count": 1,
      "outputs": [
        {
          "output_type": "stream",
          "name": "stdout",
          "text": [
            "Collecting keras_tuner\n",
            "  Downloading keras_tuner-1.4.7-py3-none-any.whl (129 kB)\n",
            "\u001b[2K     \u001b[90m━━━━━━━━━━━━━━━━━━━━━━━━━━━━━━━━━━━━━━━━\u001b[0m \u001b[32m129.1/129.1 kB\u001b[0m \u001b[31m1.7 MB/s\u001b[0m eta \u001b[36m0:00:00\u001b[0m\n",
            "\u001b[?25hRequirement already satisfied: keras in /usr/local/lib/python3.10/dist-packages (from keras_tuner) (2.15.0)\n",
            "Requirement already satisfied: packaging in /usr/local/lib/python3.10/dist-packages (from keras_tuner) (24.0)\n",
            "Requirement already satisfied: requests in /usr/local/lib/python3.10/dist-packages (from keras_tuner) (2.31.0)\n",
            "Collecting kt-legacy (from keras_tuner)\n",
            "  Downloading kt_legacy-1.0.5-py3-none-any.whl (9.6 kB)\n",
            "Requirement already satisfied: charset-normalizer<4,>=2 in /usr/local/lib/python3.10/dist-packages (from requests->keras_tuner) (3.3.2)\n",
            "Requirement already satisfied: idna<4,>=2.5 in /usr/local/lib/python3.10/dist-packages (from requests->keras_tuner) (3.7)\n",
            "Requirement already satisfied: urllib3<3,>=1.21.1 in /usr/local/lib/python3.10/dist-packages (from requests->keras_tuner) (2.0.7)\n",
            "Requirement already satisfied: certifi>=2017.4.17 in /usr/local/lib/python3.10/dist-packages (from requests->keras_tuner) (2024.6.2)\n",
            "Installing collected packages: kt-legacy, keras_tuner\n",
            "Successfully installed keras_tuner-1.4.7 kt-legacy-1.0.5\n"
          ]
        }
      ]
    },
    {
      "cell_type": "code",
      "execution_count": 2,
      "metadata": {
        "id": "LFGKzXcBStLh"
      },
      "outputs": [],
      "source": [
        "import numpy as np\n",
        "from numpy import newaxis\n",
        "import pandas as pd\n",
        "from keras.layers import Dense, Activation, Dropout\n",
        "from keras.layers import LSTM, GRU\n",
        "from keras.models import Sequential\n",
        "from keras import optimizers\n",
        "from sklearn.preprocessing import MinMaxScaler\n",
        "import matplotlib.pyplot as plt\n",
        "from keras.optimizers import RMSprop\n",
        "from keras.models import Sequential\n",
        "import matplotlib.pyplot as plt\n",
        "from sklearn.preprocessing import MinMaxScaler\n",
        "from sklearn.metrics import r2_score, mean_absolute_percentage_error, mean_squared_error\n",
        "from keras.callbacks import EarlyStopping, ReduceLROnPlateau\n",
        "import keras_tuner as kt"
      ]
    },
    {
      "cell_type": "markdown",
      "source": [
        "# Preprocessing"
      ],
      "metadata": {
        "id": "5O4oaZo3-hIR"
      }
    },
    {
      "cell_type": "code",
      "source": [
        "def plot_results(historical_data,predicted_data, true_data):\n",
        "    fig = plt.figure(facecolor='white')\n",
        "    ax = fig.add_subplot(111)\n",
        "    historical_data = scaler.inverse_transform(historical_data.reshape(-1, 1))\n",
        "    predicted_data = scaler.inverse_transform(predicted_data.reshape(-1, 1))\n",
        "    true_data = scaler.inverse_transform(true_data.reshape(-1, 1))\n",
        "    # Define the length of the historical data\n",
        "    len_historical = len(historical_data)\n",
        "\n",
        "    # Create arrays for plotting that offset the true and predicted data\n",
        "    offset_true_data = np.empty(len_historical + len(true_data))\n",
        "    offset_true_data[:] = np.nan\n",
        "    offset_true_data[len_historical:] = true_data.squeeze()\n",
        "\n",
        "    offset_predicted_data = np.empty(len_historical + len(predicted_data))\n",
        "    offset_predicted_data[:] = np.nan\n",
        "    offset_predicted_data[len_historical:] = predicted_data.squeeze()\n",
        "\n",
        "    # Plot the data\n",
        "    ax.plot(historical_data, label='Historical Data')\n",
        "    ax.plot(offset_true_data, label='True Data')\n",
        "    ax.plot(offset_predicted_data, label='Predicted Data')\n",
        "\n",
        "    plt.legend()\n",
        "    plt.show()"
      ],
      "metadata": {
        "id": "k4uL02CP86OA"
      },
      "execution_count": 3,
      "outputs": []
    },
    {
      "cell_type": "code",
      "source": [
        "# Load datasets\n",
        "train_df = pd.read_csv('/content/drive/MyDrive/Time Series/Project Final/Data/MWG Historical Data.csv')\n",
        "test_df = pd.read_csv('/content/drive/MyDrive/Time Series/Project Final/Data/MWG Historical Data Test.csv')"
      ],
      "metadata": {
        "id": "5tyJCYIZNSIQ"
      },
      "execution_count": 4,
      "outputs": []
    },
    {
      "cell_type": "code",
      "source": [
        "train_df"
      ],
      "metadata": {
        "id": "2rTu4ZYePenF",
        "colab": {
          "base_uri": "https://localhost:8080/",
          "height": 419
        },
        "outputId": "266b5603-de01-4d4a-badc-e3ff19cacf78"
      },
      "execution_count": 5,
      "outputs": [
        {
          "output_type": "execute_result",
          "data": {
            "text/plain": [
              "            Date   Price    Open    High     Low   Vol. Change %\n",
              "0     02/28/2022  67,560  67,809  68,554  67,312  3.60M   -1.16%\n",
              "1     02/25/2022  68,355  68,008  69,448  67,560  5.38M    0.58%\n",
              "2     02/24/2022  67,958  68,057  68,405  67,312  2.35M   -0.73%\n",
              "3     02/23/2022  68,455  68,405  69,846  68,008  3.22M    0.07%\n",
              "4     02/22/2022  68,405  66,070  69,150  65,772  6.55M    2.84%\n",
              "...          ...     ...     ...     ...     ...    ...      ...\n",
              "1030  01/08/2018  31,110  31,394  31,513  31,039  3.01M   -1.58%\n",
              "1031  01/05/2018  31,608  31,987  31,987  31,465  2.93M   -1.11%\n",
              "1032  01/04/2018  31,963  31,773  32,081  31,750  2.71M    0.22%\n",
              "1033  01/03/2018  31,892  31,323  32,034  31,276  4.53M    1.97%\n",
              "1034  01/02/2018  31,276  31,039  31,394  31,039  2.27M    0.76%\n",
              "\n",
              "[1035 rows x 7 columns]"
            ],
            "text/html": [
              "\n",
              "  <div id=\"df-e9a59b8d-5fe9-41ed-96d4-ea5d3b2f2c6f\" class=\"colab-df-container\">\n",
              "    <div>\n",
              "<style scoped>\n",
              "    .dataframe tbody tr th:only-of-type {\n",
              "        vertical-align: middle;\n",
              "    }\n",
              "\n",
              "    .dataframe tbody tr th {\n",
              "        vertical-align: top;\n",
              "    }\n",
              "\n",
              "    .dataframe thead th {\n",
              "        text-align: right;\n",
              "    }\n",
              "</style>\n",
              "<table border=\"1\" class=\"dataframe\">\n",
              "  <thead>\n",
              "    <tr style=\"text-align: right;\">\n",
              "      <th></th>\n",
              "      <th>Date</th>\n",
              "      <th>Price</th>\n",
              "      <th>Open</th>\n",
              "      <th>High</th>\n",
              "      <th>Low</th>\n",
              "      <th>Vol.</th>\n",
              "      <th>Change %</th>\n",
              "    </tr>\n",
              "  </thead>\n",
              "  <tbody>\n",
              "    <tr>\n",
              "      <th>0</th>\n",
              "      <td>02/28/2022</td>\n",
              "      <td>67,560</td>\n",
              "      <td>67,809</td>\n",
              "      <td>68,554</td>\n",
              "      <td>67,312</td>\n",
              "      <td>3.60M</td>\n",
              "      <td>-1.16%</td>\n",
              "    </tr>\n",
              "    <tr>\n",
              "      <th>1</th>\n",
              "      <td>02/25/2022</td>\n",
              "      <td>68,355</td>\n",
              "      <td>68,008</td>\n",
              "      <td>69,448</td>\n",
              "      <td>67,560</td>\n",
              "      <td>5.38M</td>\n",
              "      <td>0.58%</td>\n",
              "    </tr>\n",
              "    <tr>\n",
              "      <th>2</th>\n",
              "      <td>02/24/2022</td>\n",
              "      <td>67,958</td>\n",
              "      <td>68,057</td>\n",
              "      <td>68,405</td>\n",
              "      <td>67,312</td>\n",
              "      <td>2.35M</td>\n",
              "      <td>-0.73%</td>\n",
              "    </tr>\n",
              "    <tr>\n",
              "      <th>3</th>\n",
              "      <td>02/23/2022</td>\n",
              "      <td>68,455</td>\n",
              "      <td>68,405</td>\n",
              "      <td>69,846</td>\n",
              "      <td>68,008</td>\n",
              "      <td>3.22M</td>\n",
              "      <td>0.07%</td>\n",
              "    </tr>\n",
              "    <tr>\n",
              "      <th>4</th>\n",
              "      <td>02/22/2022</td>\n",
              "      <td>68,405</td>\n",
              "      <td>66,070</td>\n",
              "      <td>69,150</td>\n",
              "      <td>65,772</td>\n",
              "      <td>6.55M</td>\n",
              "      <td>2.84%</td>\n",
              "    </tr>\n",
              "    <tr>\n",
              "      <th>...</th>\n",
              "      <td>...</td>\n",
              "      <td>...</td>\n",
              "      <td>...</td>\n",
              "      <td>...</td>\n",
              "      <td>...</td>\n",
              "      <td>...</td>\n",
              "      <td>...</td>\n",
              "    </tr>\n",
              "    <tr>\n",
              "      <th>1030</th>\n",
              "      <td>01/08/2018</td>\n",
              "      <td>31,110</td>\n",
              "      <td>31,394</td>\n",
              "      <td>31,513</td>\n",
              "      <td>31,039</td>\n",
              "      <td>3.01M</td>\n",
              "      <td>-1.58%</td>\n",
              "    </tr>\n",
              "    <tr>\n",
              "      <th>1031</th>\n",
              "      <td>01/05/2018</td>\n",
              "      <td>31,608</td>\n",
              "      <td>31,987</td>\n",
              "      <td>31,987</td>\n",
              "      <td>31,465</td>\n",
              "      <td>2.93M</td>\n",
              "      <td>-1.11%</td>\n",
              "    </tr>\n",
              "    <tr>\n",
              "      <th>1032</th>\n",
              "      <td>01/04/2018</td>\n",
              "      <td>31,963</td>\n",
              "      <td>31,773</td>\n",
              "      <td>32,081</td>\n",
              "      <td>31,750</td>\n",
              "      <td>2.71M</td>\n",
              "      <td>0.22%</td>\n",
              "    </tr>\n",
              "    <tr>\n",
              "      <th>1033</th>\n",
              "      <td>01/03/2018</td>\n",
              "      <td>31,892</td>\n",
              "      <td>31,323</td>\n",
              "      <td>32,034</td>\n",
              "      <td>31,276</td>\n",
              "      <td>4.53M</td>\n",
              "      <td>1.97%</td>\n",
              "    </tr>\n",
              "    <tr>\n",
              "      <th>1034</th>\n",
              "      <td>01/02/2018</td>\n",
              "      <td>31,276</td>\n",
              "      <td>31,039</td>\n",
              "      <td>31,394</td>\n",
              "      <td>31,039</td>\n",
              "      <td>2.27M</td>\n",
              "      <td>0.76%</td>\n",
              "    </tr>\n",
              "  </tbody>\n",
              "</table>\n",
              "<p>1035 rows × 7 columns</p>\n",
              "</div>\n",
              "    <div class=\"colab-df-buttons\">\n",
              "\n",
              "  <div class=\"colab-df-container\">\n",
              "    <button class=\"colab-df-convert\" onclick=\"convertToInteractive('df-e9a59b8d-5fe9-41ed-96d4-ea5d3b2f2c6f')\"\n",
              "            title=\"Convert this dataframe to an interactive table.\"\n",
              "            style=\"display:none;\">\n",
              "\n",
              "  <svg xmlns=\"http://www.w3.org/2000/svg\" height=\"24px\" viewBox=\"0 -960 960 960\">\n",
              "    <path d=\"M120-120v-720h720v720H120Zm60-500h600v-160H180v160Zm220 220h160v-160H400v160Zm0 220h160v-160H400v160ZM180-400h160v-160H180v160Zm440 0h160v-160H620v160ZM180-180h160v-160H180v160Zm440 0h160v-160H620v160Z\"/>\n",
              "  </svg>\n",
              "    </button>\n",
              "\n",
              "  <style>\n",
              "    .colab-df-container {\n",
              "      display:flex;\n",
              "      gap: 12px;\n",
              "    }\n",
              "\n",
              "    .colab-df-convert {\n",
              "      background-color: #E8F0FE;\n",
              "      border: none;\n",
              "      border-radius: 50%;\n",
              "      cursor: pointer;\n",
              "      display: none;\n",
              "      fill: #1967D2;\n",
              "      height: 32px;\n",
              "      padding: 0 0 0 0;\n",
              "      width: 32px;\n",
              "    }\n",
              "\n",
              "    .colab-df-convert:hover {\n",
              "      background-color: #E2EBFA;\n",
              "      box-shadow: 0px 1px 2px rgba(60, 64, 67, 0.3), 0px 1px 3px 1px rgba(60, 64, 67, 0.15);\n",
              "      fill: #174EA6;\n",
              "    }\n",
              "\n",
              "    .colab-df-buttons div {\n",
              "      margin-bottom: 4px;\n",
              "    }\n",
              "\n",
              "    [theme=dark] .colab-df-convert {\n",
              "      background-color: #3B4455;\n",
              "      fill: #D2E3FC;\n",
              "    }\n",
              "\n",
              "    [theme=dark] .colab-df-convert:hover {\n",
              "      background-color: #434B5C;\n",
              "      box-shadow: 0px 1px 3px 1px rgba(0, 0, 0, 0.15);\n",
              "      filter: drop-shadow(0px 1px 2px rgba(0, 0, 0, 0.3));\n",
              "      fill: #FFFFFF;\n",
              "    }\n",
              "  </style>\n",
              "\n",
              "    <script>\n",
              "      const buttonEl =\n",
              "        document.querySelector('#df-e9a59b8d-5fe9-41ed-96d4-ea5d3b2f2c6f button.colab-df-convert');\n",
              "      buttonEl.style.display =\n",
              "        google.colab.kernel.accessAllowed ? 'block' : 'none';\n",
              "\n",
              "      async function convertToInteractive(key) {\n",
              "        const element = document.querySelector('#df-e9a59b8d-5fe9-41ed-96d4-ea5d3b2f2c6f');\n",
              "        const dataTable =\n",
              "          await google.colab.kernel.invokeFunction('convertToInteractive',\n",
              "                                                    [key], {});\n",
              "        if (!dataTable) return;\n",
              "\n",
              "        const docLinkHtml = 'Like what you see? Visit the ' +\n",
              "          '<a target=\"_blank\" href=https://colab.research.google.com/notebooks/data_table.ipynb>data table notebook</a>'\n",
              "          + ' to learn more about interactive tables.';\n",
              "        element.innerHTML = '';\n",
              "        dataTable['output_type'] = 'display_data';\n",
              "        await google.colab.output.renderOutput(dataTable, element);\n",
              "        const docLink = document.createElement('div');\n",
              "        docLink.innerHTML = docLinkHtml;\n",
              "        element.appendChild(docLink);\n",
              "      }\n",
              "    </script>\n",
              "  </div>\n",
              "\n",
              "\n",
              "<div id=\"df-2d100aa8-0b68-4c44-927a-3f6006829437\">\n",
              "  <button class=\"colab-df-quickchart\" onclick=\"quickchart('df-2d100aa8-0b68-4c44-927a-3f6006829437')\"\n",
              "            title=\"Suggest charts\"\n",
              "            style=\"display:none;\">\n",
              "\n",
              "<svg xmlns=\"http://www.w3.org/2000/svg\" height=\"24px\"viewBox=\"0 0 24 24\"\n",
              "     width=\"24px\">\n",
              "    <g>\n",
              "        <path d=\"M19 3H5c-1.1 0-2 .9-2 2v14c0 1.1.9 2 2 2h14c1.1 0 2-.9 2-2V5c0-1.1-.9-2-2-2zM9 17H7v-7h2v7zm4 0h-2V7h2v10zm4 0h-2v-4h2v4z\"/>\n",
              "    </g>\n",
              "</svg>\n",
              "  </button>\n",
              "\n",
              "<style>\n",
              "  .colab-df-quickchart {\n",
              "      --bg-color: #E8F0FE;\n",
              "      --fill-color: #1967D2;\n",
              "      --hover-bg-color: #E2EBFA;\n",
              "      --hover-fill-color: #174EA6;\n",
              "      --disabled-fill-color: #AAA;\n",
              "      --disabled-bg-color: #DDD;\n",
              "  }\n",
              "\n",
              "  [theme=dark] .colab-df-quickchart {\n",
              "      --bg-color: #3B4455;\n",
              "      --fill-color: #D2E3FC;\n",
              "      --hover-bg-color: #434B5C;\n",
              "      --hover-fill-color: #FFFFFF;\n",
              "      --disabled-bg-color: #3B4455;\n",
              "      --disabled-fill-color: #666;\n",
              "  }\n",
              "\n",
              "  .colab-df-quickchart {\n",
              "    background-color: var(--bg-color);\n",
              "    border: none;\n",
              "    border-radius: 50%;\n",
              "    cursor: pointer;\n",
              "    display: none;\n",
              "    fill: var(--fill-color);\n",
              "    height: 32px;\n",
              "    padding: 0;\n",
              "    width: 32px;\n",
              "  }\n",
              "\n",
              "  .colab-df-quickchart:hover {\n",
              "    background-color: var(--hover-bg-color);\n",
              "    box-shadow: 0 1px 2px rgba(60, 64, 67, 0.3), 0 1px 3px 1px rgba(60, 64, 67, 0.15);\n",
              "    fill: var(--button-hover-fill-color);\n",
              "  }\n",
              "\n",
              "  .colab-df-quickchart-complete:disabled,\n",
              "  .colab-df-quickchart-complete:disabled:hover {\n",
              "    background-color: var(--disabled-bg-color);\n",
              "    fill: var(--disabled-fill-color);\n",
              "    box-shadow: none;\n",
              "  }\n",
              "\n",
              "  .colab-df-spinner {\n",
              "    border: 2px solid var(--fill-color);\n",
              "    border-color: transparent;\n",
              "    border-bottom-color: var(--fill-color);\n",
              "    animation:\n",
              "      spin 1s steps(1) infinite;\n",
              "  }\n",
              "\n",
              "  @keyframes spin {\n",
              "    0% {\n",
              "      border-color: transparent;\n",
              "      border-bottom-color: var(--fill-color);\n",
              "      border-left-color: var(--fill-color);\n",
              "    }\n",
              "    20% {\n",
              "      border-color: transparent;\n",
              "      border-left-color: var(--fill-color);\n",
              "      border-top-color: var(--fill-color);\n",
              "    }\n",
              "    30% {\n",
              "      border-color: transparent;\n",
              "      border-left-color: var(--fill-color);\n",
              "      border-top-color: var(--fill-color);\n",
              "      border-right-color: var(--fill-color);\n",
              "    }\n",
              "    40% {\n",
              "      border-color: transparent;\n",
              "      border-right-color: var(--fill-color);\n",
              "      border-top-color: var(--fill-color);\n",
              "    }\n",
              "    60% {\n",
              "      border-color: transparent;\n",
              "      border-right-color: var(--fill-color);\n",
              "    }\n",
              "    80% {\n",
              "      border-color: transparent;\n",
              "      border-right-color: var(--fill-color);\n",
              "      border-bottom-color: var(--fill-color);\n",
              "    }\n",
              "    90% {\n",
              "      border-color: transparent;\n",
              "      border-bottom-color: var(--fill-color);\n",
              "    }\n",
              "  }\n",
              "</style>\n",
              "\n",
              "  <script>\n",
              "    async function quickchart(key) {\n",
              "      const quickchartButtonEl =\n",
              "        document.querySelector('#' + key + ' button');\n",
              "      quickchartButtonEl.disabled = true;  // To prevent multiple clicks.\n",
              "      quickchartButtonEl.classList.add('colab-df-spinner');\n",
              "      try {\n",
              "        const charts = await google.colab.kernel.invokeFunction(\n",
              "            'suggestCharts', [key], {});\n",
              "      } catch (error) {\n",
              "        console.error('Error during call to suggestCharts:', error);\n",
              "      }\n",
              "      quickchartButtonEl.classList.remove('colab-df-spinner');\n",
              "      quickchartButtonEl.classList.add('colab-df-quickchart-complete');\n",
              "    }\n",
              "    (() => {\n",
              "      let quickchartButtonEl =\n",
              "        document.querySelector('#df-2d100aa8-0b68-4c44-927a-3f6006829437 button');\n",
              "      quickchartButtonEl.style.display =\n",
              "        google.colab.kernel.accessAllowed ? 'block' : 'none';\n",
              "    })();\n",
              "  </script>\n",
              "</div>\n",
              "    </div>\n",
              "  </div>\n"
            ],
            "application/vnd.google.colaboratory.intrinsic+json": {
              "type": "dataframe",
              "variable_name": "train_df",
              "summary": "{\n  \"name\": \"train_df\",\n  \"rows\": 1035,\n  \"fields\": [\n    {\n      \"column\": \"Date\",\n      \"properties\": {\n        \"dtype\": \"object\",\n        \"num_unique_values\": 1035,\n        \"samples\": [\n          \"12/18/2020\",\n          \"05/08/2020\",\n          \"08/09/2019\"\n        ],\n        \"semantic_type\": \"\",\n        \"description\": \"\"\n      }\n    },\n    {\n      \"column\": \"Price\",\n      \"properties\": {\n        \"dtype\": \"string\",\n        \"num_unique_values\": 689,\n        \"samples\": [\n          \"26,629\",\n          \"27,272\",\n          \"34,288\"\n        ],\n        \"semantic_type\": \"\",\n        \"description\": \"\"\n      }\n    },\n    {\n      \"column\": \"Open\",\n      \"properties\": {\n        \"dtype\": \"string\",\n        \"num_unique_values\": 664,\n        \"samples\": [\n          \"26,499\",\n          \"25,944\",\n          \"30,019\"\n        ],\n        \"semantic_type\": \"\",\n        \"description\": \"\"\n      }\n    },\n    {\n      \"column\": \"High\",\n      \"properties\": {\n        \"dtype\": \"string\",\n        \"num_unique_values\": 691,\n        \"samples\": [\n          \"37,417\",\n          \"29,831\",\n          \"30,899\"\n        ],\n        \"semantic_type\": \"\",\n        \"description\": \"\"\n      }\n    },\n    {\n      \"column\": \"Low\",\n      \"properties\": {\n        \"dtype\": \"string\",\n        \"num_unique_values\": 712,\n        \"samples\": [\n          \"28,584\",\n          \"34,679\",\n          \"39,529\"\n        ],\n        \"semantic_type\": \"\",\n        \"description\": \"\"\n      }\n    },\n    {\n      \"column\": \"Vol.\",\n      \"properties\": {\n        \"dtype\": \"category\",\n        \"num_unique_values\": 451,\n        \"samples\": [\n          \"7.42M\",\n          \"1.47M\",\n          \"1.40M\"\n        ],\n        \"semantic_type\": \"\",\n        \"description\": \"\"\n      }\n    },\n    {\n      \"column\": \"Change %\",\n      \"properties\": {\n        \"dtype\": \"category\",\n        \"num_unique_values\": 508,\n        \"samples\": [\n          \"0.48%\",\n          \"6.11%\",\n          \"4.06%\"\n        ],\n        \"semantic_type\": \"\",\n        \"description\": \"\"\n      }\n    }\n  ]\n}"
            }
          },
          "metadata": {},
          "execution_count": 5
        }
      ]
    },
    {
      "cell_type": "code",
      "source": [
        "import pandas as pd\n",
        "\n",
        "# Convert 'Date' column to datetime\n",
        "train_df['Date'] = pd.to_datetime(train_df['Date'])\n",
        "test_df['Date'] = pd.to_datetime(test_df['Date'])\n",
        "\n",
        "# Sort the dataframes by 'Date' and reset the index\n",
        "train_df = train_df.sort_values('Date').reset_index(drop=True)\n",
        "test_df = test_df.sort_values('Date').reset_index(drop=True)\n",
        "\n",
        "# Set the 'Date' column as the index\n",
        "train_df = train_df.set_index('Date')\n",
        "test_df = test_df.set_index('Date')\n",
        "\n",
        "# Resample the dataframes to daily frequency and forward-fill missing values\n",
        "train_df = train_df.asfreq('D').fillna(method=\"ffill\")\n",
        "test_df = test_df.asfreq('D').fillna(method=\"ffill\")\n"
      ],
      "metadata": {
        "id": "ax-jNlfcNdvf"
      },
      "execution_count": 6,
      "outputs": []
    },
    {
      "cell_type": "code",
      "source": [
        "# Convert specified columns to float\n",
        "columns_to_convert = ['Price', 'Open', 'High', 'Low']\n",
        "for column in columns_to_convert:\n",
        "    train_df[column] = train_df[column].str.replace(',', '').astype(float)\n",
        "    test_df[column] = test_df[column].str.replace(',', '').astype(float)\n",
        "# Select the feature to predict, e.g., 'Price'\n",
        "feature = 'Price'"
      ],
      "metadata": {
        "id": "7N8TbKLCNjSb"
      },
      "execution_count": 7,
      "outputs": []
    },
    {
      "cell_type": "code",
      "source": [
        "# Normalize the data\n",
        "scaler = MinMaxScaler()\n",
        "train_data = scaler.fit_transform(train_df[[feature]])\n",
        "test_data = scaler.transform(test_df[[feature]])"
      ],
      "metadata": {
        "id": "-ozVoCvANmsF"
      },
      "execution_count": 8,
      "outputs": []
    },
    {
      "cell_type": "code",
      "source": [
        "# Prepare the data for LSTM/GRU\n",
        "def create_dataset(data, time_step=1):\n",
        "    X, Y = [], []\n",
        "    for i in range(len(data)-time_step-1):\n",
        "        a = data[i:(i+time_step), 0]\n",
        "        X.append(a)\n",
        "        Y.append(data[i + time_step, 0])\n",
        "    return np.array(X), np.array(Y)\n",
        "\n",
        "time_step = 10\n",
        "X_train, y_train = create_dataset(train_data, time_step)\n",
        "X_test, y_test = create_dataset(test_data, time_step)\n",
        "\n"
      ],
      "metadata": {
        "id": "gtkDOWvL8_-6"
      },
      "execution_count": 9,
      "outputs": []
    },
    {
      "cell_type": "code",
      "source": [
        "# Reshape input to be [samples, time steps, features]\n",
        "X_train = X_train.reshape(X_train.shape[0], X_train.shape[1], 1)\n",
        "X_test = X_test.reshape(X_test.shape[0], X_test.shape[1], 1)\n"
      ],
      "metadata": {
        "id": "PGQ-anXCNoaY"
      },
      "execution_count": 10,
      "outputs": []
    },
    {
      "cell_type": "markdown",
      "source": [
        "# FINE_TUNING"
      ],
      "metadata": {
        "id": "MyUX9YpQ3blE"
      }
    },
    {
      "cell_type": "code",
      "source": [
        "early_stopping = EarlyStopping(monitor='val_loss', patience=10, restore_best_weights=True)\n",
        "reduce_lr = ReduceLROnPlateau(monitor='val_loss', factor=0.02, patience=10, min_lr=0.001)"
      ],
      "metadata": {
        "id": "ZG8gJrn0V0hz"
      },
      "execution_count": 11,
      "outputs": []
    },
    {
      "cell_type": "code",
      "source": [
        "def build_model_LSTM(hp):\n",
        "    model = Sequential()\n",
        "    model.add(LSTM(units=hp.Int('units', min_value=5, max_value=300, step=5), return_sequences=True, input_shape=(X_train.shape[1], 1)))\n",
        "    model.add(Dropout(hp.Float('dropout_rate', min_value=0.05, max_value=0.5, step=0.05)))\n",
        "    model.add(LSTM(units=hp.Int('units', min_value=5, max_value=300, step=5), return_sequences=False))\n",
        "    model.add(Dropout(hp.Float('dropout_rate', min_value=0.1, max_value=0.5, step=0.05)))\n",
        "    model.add(Dense(units=1,activation = \"linear\"))\n",
        "\n",
        "    model.compile(optimizer=optimizers.AdamW(learning_rate=hp.Choice('learning_rate', values=[0.005, 0.001, 0.002])),\n",
        "                  loss='mean_squared_error')\n",
        "\n",
        "    return model\n",
        "\n",
        "tuner = kt.RandomSearch(build_model_LSTM,\n",
        "                        objective='val_loss',\n",
        "                        max_trials=15,\n",
        "                        executions_per_trial=1,\n",
        "                        directory='tuning_dir_LSTM',\n",
        "                        project_name='stock_price_prediction')\n",
        "\n",
        "tuner.search(X_train, y_train, batch_size=16, epochs=30, validation_split= 0.25,callbacks=[early_stopping, reduce_lr], verbose=1)\n"
      ],
      "metadata": {
        "id": "UFl9nXZ99gjF",
        "colab": {
          "base_uri": "https://localhost:8080/"
        },
        "outputId": "4e5837d5-ae90-4f74-e33f-bfe30ef1ef6a"
      },
      "execution_count": 12,
      "outputs": [
        {
          "output_type": "stream",
          "name": "stdout",
          "text": [
            "Trial 15 Complete [00h 01m 48s]\n",
            "val_loss: 0.00035390452831052244\n",
            "\n",
            "Best val_loss So Far: 0.00027618458261713386\n",
            "Total elapsed time: 00h 25m 49s\n"
          ]
        }
      ]
    },
    {
      "cell_type": "code",
      "source": [
        "best_hps = tuner.get_best_hyperparameters()[0].values # Get the best hyperparameter configuration\n",
        "\n",
        "# Print the optimal values\n",
        "print(\"Optimal hyperparameters:\")\n",
        "for key, value in best_hps.items():\n",
        "    print(f\"{key}: {value}\")"
      ],
      "metadata": {
        "colab": {
          "base_uri": "https://localhost:8080/"
        },
        "id": "VX_ZKWV1LJcM",
        "outputId": "616e064a-6e9e-4ea3-8d43-10cde4e9575a"
      },
      "execution_count": 13,
      "outputs": [
        {
          "output_type": "stream",
          "name": "stdout",
          "text": [
            "Optimal hyperparameters:\n",
            "units: 105\n",
            "dropout_rate: 0.1\n",
            "learning_rate: 0.002\n"
          ]
        }
      ]
    },
    {
      "cell_type": "code",
      "source": [
        "best_model_LSTM = tuner.get_best_models(num_models=1)[0]"
      ],
      "metadata": {
        "id": "E78OpsD9EKlJ"
      },
      "execution_count": 15,
      "outputs": []
    },
    {
      "cell_type": "code",
      "source": [
        "best_model_LSTM.save(\"/content/drive/MyDrive/Time Series/Project Final/Code/LSTM_MWG.keras\")"
      ],
      "metadata": {
        "id": "VZ_rE4f3dOPw"
      },
      "execution_count": 16,
      "outputs": []
    },
    {
      "cell_type": "code",
      "source": [
        "predicted_stock_price = best_model_LSTM.predict(X_test)\n",
        "plot_results(y_train,predicted_stock_price,y_test)\n",
        "best_model_LSTM.summary()"
      ],
      "metadata": {
        "id": "yCrBzEsz-0xT",
        "colab": {
          "base_uri": "https://localhost:8080/",
          "height": 770
        },
        "outputId": "8ddea120-50de-444d-846b-f10114295b34"
      },
      "execution_count": 17,
      "outputs": [
        {
          "output_type": "stream",
          "name": "stdout",
          "text": [
            "13/13 [==============================] - 1s 8ms/step\n"
          ]
        },
        {
          "output_type": "display_data",
          "data": {
            "text/plain": [
              "<Figure size 640x480 with 1 Axes>"
            ],
            "image/png": "[encoded data removed]"
          },
          "metadata": {}
        },
        {
          "output_type": "stream",
          "name": "stdout",
          "text": [
            "Model: \"sequential\"\n",
            "_________________________________________________________________\n",
            " Layer (type)                Output Shape              Param #   \n",
            "=================================================================\n",
            " lstm (LSTM)                 (None, 10, 105)           44940     \n",
            "                                                                 \n",
            " dropout (Dropout)           (None, 10, 105)           0         \n",
            "                                                                 \n",
            " lstm_1 (LSTM)               (None, 105)               88620     \n",
            "                                                                 \n",
            " dropout_1 (Dropout)         (None, 105)               0         \n",
            "                                                                 \n",
            " dense (Dense)               (None, 1)                 106       \n",
            "                                                                 \n",
            "=================================================================\n",
            "Total params: 133666 (522.13 KB)\n",
            "Trainable params: 133666 (522.13 KB)\n",
            "Non-trainable params: 0 (0.00 Byte)\n",
            "_________________________________________________________________\n"
          ]
        }
      ]
    },
    {
      "cell_type": "code",
      "source": [
        "def build_model_GRU(hp):\n",
        "    model = Sequential()\n",
        "    model.add(GRU(units=hp.Int('units', min_value=5, max_value=300, step=5), return_sequences=True, input_shape=(X_train.shape[1], 1)))\n",
        "    model.add(Dropout(hp.Float('dropout_rate', min_value=0.05, max_value=0.5, step=0.05)))\n",
        "    model.add(GRU(units=hp.Int('units', min_value=5, max_value=300, step=5), return_sequences=False))\n",
        "    model.add(Dropout(hp.Float('dropout_rate', min_value=0.1, max_value=0.5, step=0.05)))\n",
        "    model.add(Dense(units=1,activation = \"linear\"))\n",
        "\n",
        "    model.compile(optimizer=optimizers.AdamW(learning_rate=hp.Choice('learning_rate', values=[0.005, 0.001, 0.002])),\n",
        "                  loss='mean_squared_error')\n",
        "\n",
        "    return model\n",
        "\n",
        "tuner1 = kt.RandomSearch(build_model_GRU,\n",
        "                        objective='val_loss',\n",
        "                        max_trials=15 ,\n",
        "                        executions_per_trial=1,\n",
        "                        directory='tuning_dir',\n",
        "                        project_name='stock_price_prediction')\n",
        "\n",
        "tuner1.search(X_train, y_train, batch_size=16, epochs=30, validation_split = 0.25,callbacks=[early_stopping, reduce_lr], verbose=1)\n",
        "\n",
        "best_model1 = tuner1.get_best_models(num_models=1)[0]"
      ],
      "metadata": {
        "id": "QLei2iCQ3bQE",
        "colab": {
          "base_uri": "https://localhost:8080/"
        },
        "outputId": "d82d6935-125e-4110-9df3-e16b42871eeb"
      },
      "execution_count": 18,
      "outputs": [
        {
          "output_type": "stream",
          "name": "stdout",
          "text": [
            "Trial 15 Complete [00h 00m 42s]\n",
            "val_loss: 0.00030014090589247644\n",
            "\n",
            "Best val_loss So Far: 0.00030014090589247644\n",
            "Total elapsed time: 00h 12m 00s\n"
          ]
        }
      ]
    },
    {
      "cell_type": "code",
      "source": [
        "best_model1.save('/content/drive/MyDrive/Time Series/Project Final/Code/GRU_MWG.keras')"
      ],
      "metadata": {
        "id": "rB2xAJdBdDuE"
      },
      "execution_count": 19,
      "outputs": []
    },
    {
      "cell_type": "code",
      "source": [
        "best_hps_GRU = tuner1.get_best_hyperparameters()[0].values # Get the best hyperparameter configuration\n",
        "\n",
        "# Print the optimal values\n",
        "print(\"Optimal hyperparameters:\")\n",
        "for key, value in best_hps_GRU.items():\n",
        "    print(f\"{key}: {value}\")"
      ],
      "metadata": {
        "colab": {
          "base_uri": "https://localhost:8080/"
        },
        "id": "1hHUqfNvLYzN",
        "outputId": "ee09f3f0-6c02-4405-b581-6baa92a35784"
      },
      "execution_count": 20,
      "outputs": [
        {
          "output_type": "stream",
          "name": "stdout",
          "text": [
            "Optimal hyperparameters:\n",
            "units: 125\n",
            "dropout_rate: 0.05\n",
            "learning_rate: 0.002\n"
          ]
        }
      ]
    },
    {
      "cell_type": "code",
      "source": [
        "#Let's use the model and predict the stock\n",
        "gru_predictions = best_model1.predict(X_test)\n",
        "plot_results(y_train,gru_predictions,y_test)\n",
        "best_model1.summary()"
      ],
      "metadata": {
        "id": "_APjxAFH7ZHI",
        "colab": {
          "base_uri": "https://localhost:8080/",
          "height": 770
        },
        "outputId": "05a5b7e5-392c-4772-a8d3-8e608f8ec475"
      },
      "execution_count": 21,
      "outputs": [
        {
          "output_type": "stream",
          "name": "stdout",
          "text": [
            "13/13 [==============================] - 1s 9ms/step\n"
          ]
        },
        {
          "output_type": "display_data",
          "data": {
            "text/plain": [
              "<Figure size 640x480 with 1 Axes>"
            ],
            "image/png": "[encoded data removed]"
          },
          "metadata": {}
        },
        {
          "output_type": "stream",
          "name": "stdout",
          "text": [
            "Model: \"sequential\"\n",
            "_________________________________________________________________\n",
            " Layer (type)                Output Shape              Param #   \n",
            "=================================================================\n",
            " gru (GRU)                   (None, 10, 125)           48000     \n",
            "                                                                 \n",
            " dropout (Dropout)           (None, 10, 125)           0         \n",
            "                                                                 \n",
            " gru_1 (GRU)                 (None, 125)               94500     \n",
            "                                                                 \n",
            " dropout_1 (Dropout)         (None, 125)               0         \n",
            "                                                                 \n",
            " dense (Dense)               (None, 1)                 126       \n",
            "                                                                 \n",
            "=================================================================\n",
            "Total params: 142626 (557.13 KB)\n",
            "Trainable params: 142626 (557.13 KB)\n",
            "Non-trainable params: 0 (0.00 Byte)\n",
            "_________________________________________________________________\n"
          ]
        }
      ]
    },
    {
      "cell_type": "markdown",
      "source": [
        "# Evaluation"
      ],
      "metadata": {
        "id": "GKEtf9hE-dsA"
      }
    },
    {
      "cell_type": "code",
      "source": [
        "predicted_stock_price_rescale= scaler.inverse_transform(predicted_stock_price.reshape(-1, 1))\n",
        "y_test = scaler.inverse_transform(y_test.reshape(-1, 1))\n",
        "gru_predictions_rescale= scaler.inverse_transform(gru_predictions.reshape(-1, 1))"
      ],
      "metadata": {
        "id": "ucLllTy8Wm4E"
      },
      "execution_count": 22,
      "outputs": []
    },
    {
      "cell_type": "code",
      "source": [
        "def evaluate_model(predictions, actual):\n",
        "    r2 = r2_score(actual, predictions)\n",
        "    mape = mean_absolute_percentage_error(actual, predictions)\n",
        "    rmse = np.sqrt(mean_squared_error(actual, predictions))\n",
        "    mse= mean_squared_error(actual, predictions)\n",
        "    return r2, mape, rmse,mse\n",
        "\n",
        "# Evaluate LSTM\n",
        "lstm_r2, lstm_mape, lstm_rmse,mse = evaluate_model(predicted_stock_price_rescale, y_test)\n",
        "print(f\"LSTM - R2: {lstm_r2}, MAPE: {lstm_mape}, RMSE: {lstm_rmse}, MSE:{mse}\")\n",
        "\n",
        "# Evaluate GRU\n",
        "gru_r2, gru_mape, gru_rmse,mse = evaluate_model(gru_predictions_rescale, y_test)\n",
        "print(f\"GRU - R2: {gru_r2}, MAPE: {gru_mape}, RMSE: {gru_rmse}, MSE:{mse}\")"
      ],
      "metadata": {
        "id": "HxDN8AZS9dR4",
        "colab": {
          "base_uri": "https://localhost:8080/"
        },
        "outputId": "bf4b30a3-85f7-4d39-b8e5-0f948813cb13"
      },
      "execution_count": 23,
      "outputs": [
        {
          "output_type": "stream",
          "name": "stdout",
          "text": [
            "LSTM - R2: 0.9873307771045878, MAPE: 0.017693759593803093, RMSE: 1506.5108311593922, MSE:2269574.8844005624\n",
            "GRU - R2: 0.9869446678271947, MAPE: 0.017479815439988753, RMSE: 1529.2948748041665, MSE:2338742.814102291\n"
          ]
        }
      ]
    }
  ]
}