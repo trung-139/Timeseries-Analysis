{
  "nbformat": 4,
  "nbformat_minor": 0,
  "metadata": {
    "colab": {
      "provenance": []
    },
    "kernelspec": {
      "name": "python3",
      "display_name": "Python 3"
    },
    "language_info": {
      "name": "python"
    }
  },
  "cells": [
    {
      "cell_type": "markdown",
      "source": [
        "# LIBRARY"
      ],
      "metadata": {
        "id": "HCzYbPoj1dhK"
      }
    },
    {
      "cell_type": "code",
      "source": [
        "!pip install keras_tuner"
      ],
      "metadata": {
        "colab": {
          "base_uri": "https://localhost:8080/"
        },
        "id": "HcfcZtHm1Jii",
        "outputId": "478bf6ea-f4cf-4786-8c1a-f70e5e025f2b"
      },
      "execution_count": 5,
      "outputs": [
        {
          "output_type": "stream",
          "name": "stdout",
          "text": [
            "Requirement already satisfied: keras_tuner in /usr/local/lib/python3.10/dist-packages (1.4.7)\n",
            "Requirement already satisfied: keras in /usr/local/lib/python3.10/dist-packages (from keras_tuner) (2.15.0)\n",
            "Requirement already satisfied: packaging in /usr/local/lib/python3.10/dist-packages (from keras_tuner) (24.0)\n",
            "Requirement already satisfied: requests in /usr/local/lib/python3.10/dist-packages (from keras_tuner) (2.31.0)\n",
            "Requirement already satisfied: kt-legacy in /usr/local/lib/python3.10/dist-packages (from keras_tuner) (1.0.5)\n",
            "Requirement already satisfied: charset-normalizer<4,>=2 in /usr/local/lib/python3.10/dist-packages (from requests->keras_tuner) (3.3.2)\n",
            "Requirement already satisfied: idna<4,>=2.5 in /usr/local/lib/python3.10/dist-packages (from requests->keras_tuner) (3.7)\n",
            "Requirement already satisfied: urllib3<3,>=1.21.1 in /usr/local/lib/python3.10/dist-packages (from requests->keras_tuner) (2.0.7)\n",
            "Requirement already satisfied: certifi>=2017.4.17 in /usr/local/lib/python3.10/dist-packages (from requests->keras_tuner) (2024.6.2)\n"
          ]
        }
      ]
    },
    {
      "cell_type": "code",
      "source": [
        "import numpy as np\n",
        "from numpy import newaxis\n",
        "import pandas as pd # data processing, CSV file I/O (e.g. pd.read_csv)\n",
        "from keras.layers import Dense, Activation, Dropout\n",
        "from keras.layers import LSTM, GRU\n",
        "from keras.models import Sequential\n",
        "from keras import optimizers\n",
        "from sklearn.preprocessing import MinMaxScaler\n",
        "import matplotlib.pyplot as plt\n",
        "from keras.optimizers import RMSprop\n",
        "from keras.models import Sequential\n",
        "import matplotlib.pyplot as plt\n",
        "from sklearn.preprocessing import MinMaxScaler\n",
        "from sklearn.metrics import r2_score, mean_absolute_percentage_error, mean_squared_error\n",
        "from keras.callbacks import EarlyStopping, ReduceLROnPlateau\n",
        "import keras_tuner as kt"
      ],
      "metadata": {
        "id": "2LjpmiiaVHFR"
      },
      "execution_count": 6,
      "outputs": []
    },
    {
      "cell_type": "code",
      "source": [
        "from google.colab import drive\n",
        "drive.mount('/content/drive')"
      ],
      "metadata": {
        "colab": {
          "base_uri": "https://localhost:8080/"
        },
        "id": "0h_CBZ40zg6I",
        "outputId": "709a4266-3916-4be5-ddf5-1d92eebad3c1"
      },
      "execution_count": 4,
      "outputs": [
        {
          "output_type": "stream",
          "name": "stdout",
          "text": [
            "Mounted at /content/drive\n"
          ]
        }
      ]
    },
    {
      "cell_type": "markdown",
      "source": [
        "# Prepare data"
      ],
      "metadata": {
        "id": "YJuwWiBtUgs6"
      }
    },
    {
      "cell_type": "code",
      "source": [
        "def plot_results(historical_data,predicted_data, true_data):\n",
        "    fig = plt.figure(facecolor='white')\n",
        "    ax = fig.add_subplot(111)\n",
        "    historical_data = scaler.inverse_transform(historical_data.reshape(-1, 1))\n",
        "    predicted_data = scaler.inverse_transform(predicted_data.reshape(-1, 1))\n",
        "    true_data = scaler.inverse_transform(true_data.reshape(-1, 1))\n",
        "    # Define the length of the historical data\n",
        "    len_historical = len(historical_data)\n",
        "\n",
        "    # Create arrays for plotting that offset the true and predicted data\n",
        "    offset_true_data = np.empty(len_historical + len(true_data))\n",
        "    offset_true_data[:] = np.nan\n",
        "    offset_true_data[len_historical:] = true_data.squeeze()\n",
        "\n",
        "    offset_predicted_data = np.empty(len_historical + len(predicted_data))\n",
        "    offset_predicted_data[:] = np.nan\n",
        "    offset_predicted_data[len_historical:] = predicted_data.squeeze()\n",
        "\n",
        "    # Plot the data\n",
        "    ax.plot(historical_data, label='Historical Data')\n",
        "    ax.plot(offset_true_data, label='True Data')\n",
        "    ax.plot(offset_predicted_data, label='Predicted Data')\n",
        "\n",
        "    plt.legend()\n",
        "    plt.show()"
      ],
      "metadata": {
        "id": "cg07MLa4WV8d"
      },
      "execution_count": 7,
      "outputs": []
    },
    {
      "cell_type": "code",
      "source": [
        "# LOAD DATASETS\n",
        "train_df = pd.read_csv('/content/drive/MyDrive/Time Series/Project Final/Data/HPG Historical Data.csv')\n",
        "test_df = pd.read_csv('/content/drive/MyDrive/Time Series/Project Final/Data/HPG Historical Data Test.csv')"
      ],
      "metadata": {
        "id": "PaW5Druj1qvA"
      },
      "execution_count": 8,
      "outputs": []
    },
    {
      "cell_type": "code",
      "source": [
        "# Convert 'Date' column to datetime\n",
        "train_df['Date'] = pd.to_datetime(train_df['Date'])\n",
        "test_df['Date'] = pd.to_datetime(test_df['Date'])\n",
        "\n",
        "# Sort the dataframes by 'Date' and reset the index\n",
        "train_df = train_df.sort_values('Date').reset_index(drop=True)\n",
        "test_df = test_df.sort_values('Date').reset_index(drop=True)\n",
        "\n",
        "# Set the 'Date' column as the index\n",
        "train_df = train_df.set_index('Date')\n",
        "test_df = test_df.set_index('Date')\n",
        "\n",
        "# Resample the dataframes to daily frequency and forward-fill missing values\n",
        "train_df = train_df.asfreq('D').fillna(method=\"ffill\")\n",
        "test_df = test_df.asfreq('D').fillna(method=\"ffill\")\n"
      ],
      "metadata": {
        "id": "os7r-4x6Md1R"
      },
      "execution_count": 9,
      "outputs": []
    },
    {
      "cell_type": "code",
      "source": [
        "# Convert specified columns to float\n",
        "columns_to_convert = ['Price', 'Open', 'High', 'Low']\n",
        "for column in columns_to_convert:\n",
        "    train_df[column] = train_df[column].str.replace(',', '').astype(float)\n",
        "    test_df[column] = test_df[column].str.replace(',', '').astype(float)\n",
        "# Select the feature to predict, e.g., 'Price'\n",
        "feature = 'Price'"
      ],
      "metadata": {
        "id": "n82uNcEJMkJV"
      },
      "execution_count": 10,
      "outputs": []
    },
    {
      "cell_type": "code",
      "source": [
        "# Normalize the data\n",
        "scaler = MinMaxScaler()\n",
        "train_data = scaler.fit_transform(train_df[[feature]])\n",
        "test_data = scaler.transform(test_df[[feature]])"
      ],
      "metadata": {
        "id": "WLVhk7TpNCqO"
      },
      "execution_count": 11,
      "outputs": []
    },
    {
      "cell_type": "code",
      "source": [
        "# Prepare the data for LSTM/GRU\n",
        "def create_dataset(data, time_step=1):\n",
        "    X, Y = [], []\n",
        "    for i in range(len(data)-time_step-1):\n",
        "        a = data[i:(i+time_step), 0]\n",
        "        X.append(a)\n",
        "        Y.append(data[i + time_step, 0])\n",
        "    return np.array(X), np.array(Y)\n",
        "\n"
      ],
      "metadata": {
        "id": "XhUt318MhGK8"
      },
      "execution_count": 12,
      "outputs": []
    },
    {
      "cell_type": "code",
      "source": [
        "time_step = 10\n",
        "X_train, y_train = create_dataset(train_data, time_step)\n",
        "X_test, y_test = create_dataset(test_data, time_step)\n",
        "\n",
        "# Reshape input to be [samples, time steps, features]\n",
        "X_train = X_train.reshape(X_train.shape[0], X_train.shape[1], 1)\n",
        "X_test = X_test.reshape(X_test.shape[0], X_test.shape[1], 1)"
      ],
      "metadata": {
        "id": "quIv6QPjN8pV"
      },
      "execution_count": 13,
      "outputs": []
    },
    {
      "cell_type": "markdown",
      "source": [
        "# FINE_TUNING"
      ],
      "metadata": {
        "id": "riu0nUaxy_wK"
      }
    },
    {
      "cell_type": "code",
      "source": [
        "early_stopping = EarlyStopping(monitor='val_loss', patience=10, restore_best_weights=True)\n",
        "reduce_lr = ReduceLROnPlateau(monitor='val_loss', factor=0.2, patience=10, min_lr=0.001)"
      ],
      "metadata": {
        "id": "RTdIT1yPToCv"
      },
      "execution_count": 14,
      "outputs": []
    },
    {
      "cell_type": "code",
      "source": [
        "def build_model(hp):\n",
        "    model = Sequential()\n",
        "    model.add(LSTM(units=hp.Int('units', min_value=5, max_value=300, step=5), return_sequences=True, input_shape=(X_train.shape[1], 1)))\n",
        "    model.add(Dropout(hp.Float('dropout_rate', min_value=0.05, max_value=0.5, step=0.05)))\n",
        "    model.add(LSTM(units=hp.Int('units', min_value=5, max_value=300, step=5), return_sequences=False))\n",
        "    model.add(Dropout(hp.Float('dropout_rate', min_value=0.1, max_value=0.5, step=0.05)))\n",
        "    model.add(Dense(units=1,activation = \"linear\"))\n",
        "\n",
        "    model.compile(optimizer=optimizers.AdamW(learning_rate=hp.Choice('learning_rate', values=[0.005, 0.001, 0.002])),\n",
        "                  loss='mean_squared_error')\n",
        "\n",
        "    return model\n",
        "\n",
        "tuner = kt.RandomSearch(build_model,\n",
        "                        objective='val_loss',\n",
        "                        max_trials=15,\n",
        "                        executions_per_trial=1,\n",
        "                        directory='tuning_dir',\n",
        "                        project_name='stock_price_prediction')\n",
        "\n",
        "tuner.search(X_train, y_train, batch_size=16, epochs=30, validation_split= 0.25,callbacks=[early_stopping, reduce_lr], verbose=1)\n",
        "\n",
        "\n"
      ],
      "metadata": {
        "colab": {
          "base_uri": "https://localhost:8080/"
        },
        "id": "TqHw4YnDzCPI",
        "outputId": "330ee511-7e7e-4b0a-94ff-21ffed2efe91"
      },
      "execution_count": 15,
      "outputs": [
        {
          "output_type": "stream",
          "name": "stdout",
          "text": [
            "Trial 15 Complete [00h 00m 47s]\n",
            "val_loss: 0.0004133434558752924\n",
            "\n",
            "Best val_loss So Far: 0.0003717360959853977\n",
            "Total elapsed time: 00h 22m 22s\n"
          ]
        }
      ]
    },
    {
      "cell_type": "code",
      "source": [
        "best_hps = tuner.get_best_hyperparameters()[0].values # Get the best hyperparameter configuration\n",
        "\n",
        "# Print the optimal values\n",
        "print(\"Optimal hyperparameters:\")\n",
        "for key, value in best_hps.items():\n",
        "    print(f\"{key}: {value}\")"
      ],
      "metadata": {
        "colab": {
          "base_uri": "https://localhost:8080/"
        },
        "id": "kZZUIfoFFIl8",
        "outputId": "fa13f62e-4c0c-405b-e54a-400123924ef3"
      },
      "execution_count": 16,
      "outputs": [
        {
          "output_type": "stream",
          "name": "stdout",
          "text": [
            "Optimal hyperparameters:\n",
            "units: 280\n",
            "dropout_rate: 0.2\n",
            "learning_rate: 0.001\n"
          ]
        }
      ]
    },
    {
      "cell_type": "code",
      "source": [
        "best_model = tuner.get_best_models(num_models=1)[0]"
      ],
      "metadata": {
        "id": "A5FZPl8XEqAW"
      },
      "execution_count": 17,
      "outputs": []
    },
    {
      "cell_type": "code",
      "source": [
        "predicted_stock_price = best_model.predict(X_test)\n",
        "\n",
        "plot_results(y_train,predicted_stock_price,y_test)\n",
        "best_model.summary()"
      ],
      "metadata": {
        "colab": {
          "base_uri": "https://localhost:8080/",
          "height": 770
        },
        "id": "DSn8yW0H8geo",
        "outputId": "6d551d7f-3898-4b23-c7fb-42d4b2d85c27"
      },
      "execution_count": 18,
      "outputs": [
        {
          "output_type": "stream",
          "name": "stdout",
          "text": [
            "13/13 [==============================] - 1s 27ms/step\n"
          ]
        },
        {
          "output_type": "display_data",
          "data": {
            "text/plain": [
              "<Figure size 640x480 with 1 Axes>"
            ],
            "image/png": "[encoded data removed]"
          },
          "metadata": {}
        },
        {
          "output_type": "stream",
          "name": "stdout",
          "text": [
            "Model: \"sequential\"\n",
            "_________________________________________________________________\n",
            " Layer (type)                Output Shape              Param #   \n",
            "=================================================================\n",
            " lstm (LSTM)                 (None, 10, 280)           315840    \n",
            "                                                                 \n",
            " dropout (Dropout)           (None, 10, 280)           0         \n",
            "                                                                 \n",
            " lstm_1 (LSTM)               (None, 280)               628320    \n",
            "                                                                 \n",
            " dropout_1 (Dropout)         (None, 280)               0         \n",
            "                                                                 \n",
            " dense (Dense)               (None, 1)                 281       \n",
            "                                                                 \n",
            "=================================================================\n",
            "Total params: 944441 (3.60 MB)\n",
            "Trainable params: 944441 (3.60 MB)\n",
            "Non-trainable params: 0 (0.00 Byte)\n",
            "_________________________________________________________________\n"
          ]
        }
      ]
    },
    {
      "cell_type": "code",
      "source": [
        "def build_model_GRU(hp):\n",
        "    model = Sequential()\n",
        "    model.add(GRU(units=hp.Int('units', min_value=5, max_value=300, step=5), return_sequences=True, input_shape=(X_train.shape[1], 1)))\n",
        "    model.add(Dropout(hp.Float('dropout_rate', min_value=0.05, max_value=0.5, step=0.05)))\n",
        "    model.add(GRU(units=hp.Int('units', min_value=5, max_value=300, step=5), return_sequences=False))\n",
        "    model.add(Dropout(hp.Float('dropout_rate', min_value=0.1, max_value=0.5, step=0.05)))\n",
        "    model.add(Dense(units=1,activation = \"linear\"))\n",
        "\n",
        "    model.compile(optimizer=optimizers.AdamW(learning_rate=hp.Choice('learning_rate', values=[0.005, 0.001, 0.002])),\n",
        "                  loss='mean_squared_error')\n",
        "\n",
        "    return model\n",
        "\n",
        "tuner1 = kt.RandomSearch(build_model_GRU,\n",
        "                        objective='val_loss',\n",
        "                        max_trials=15,\n",
        "                        executions_per_trial=1,\n",
        "                        directory='tuning_dir_GRU',\n",
        "                        project_name='stock_price_prediction')\n",
        "\n",
        "tuner1.search(X_train, y_train, batch_size=16, epochs=30, validation_split=0.25,callbacks=[early_stopping, reduce_lr], verbose=1)\n",
        "\n"
      ],
      "metadata": {
        "colab": {
          "base_uri": "https://localhost:8080/"
        },
        "id": "R-L_vlrP2bfW",
        "outputId": "45fd151c-c624-4788-d219-4036a5ffd48c"
      },
      "execution_count": 19,
      "outputs": [
        {
          "output_type": "stream",
          "name": "stdout",
          "text": [
            "Trial 15 Complete [00h 00m 47s]\n",
            "val_loss: 0.000850532844197005\n",
            "\n",
            "Best val_loss So Far: 0.00028427765937522054\n",
            "Total elapsed time: 00h 16m 49s\n"
          ]
        }
      ]
    },
    {
      "cell_type": "code",
      "source": [
        "best_model1 = tuner1.get_best_models(num_models=1)[0]"
      ],
      "metadata": {
        "id": "OfunkVCDKQkD"
      },
      "execution_count": 20,
      "outputs": []
    },
    {
      "cell_type": "code",
      "source": [
        "best_hps_GRU = tuner1.get_best_hyperparameters()[0].values # Get the best hyperparameter configuration\n",
        "\n",
        "# Print the optimal values\n",
        "print(\"Optimal hyperparameters:\")\n",
        "for key, value in best_hps.items():\n",
        "    print(f\"{key}: {value}\")"
      ],
      "metadata": {
        "colab": {
          "base_uri": "https://localhost:8080/"
        },
        "id": "Ept2mc_kItDA",
        "outputId": "8bd6ef22-13c3-4985-93a4-7c080a8cb218"
      },
      "execution_count": 21,
      "outputs": [
        {
          "output_type": "stream",
          "name": "stdout",
          "text": [
            "Optimal hyperparameters:\n",
            "units: 280\n",
            "dropout_rate: 0.2\n",
            "learning_rate: 0.001\n"
          ]
        }
      ]
    },
    {
      "cell_type": "code",
      "source": [
        "gru_predictions = best_model1.predict(X_test)\n",
        "plot_results(y_train,gru_predictions,y_test)\n",
        "best_model1.summary()"
      ],
      "metadata": {
        "colab": {
          "base_uri": "https://localhost:8080/",
          "height": 770
        },
        "id": "oxmW9ByB9BMo",
        "outputId": "d6563d06-247e-4ac1-9423-77ef305ad8a3"
      },
      "execution_count": 22,
      "outputs": [
        {
          "output_type": "stream",
          "name": "stdout",
          "text": [
            "13/13 [==============================] - 1s 6ms/step\n"
          ]
        },
        {
          "output_type": "display_data",
          "data": {
            "text/plain": [
              "<Figure size 640x480 with 1 Axes>"
            ],
            "image/png": "[encoded data removed]"
          },
          "metadata": {}
        },
        {
          "output_type": "stream",
          "name": "stdout",
          "text": [
            "Model: \"sequential\"\n",
            "_________________________________________________________________\n",
            " Layer (type)                Output Shape              Param #   \n",
            "=================================================================\n",
            " gru (GRU)                   (None, 10, 75)            17550     \n",
            "                                                                 \n",
            " dropout (Dropout)           (None, 10, 75)            0         \n",
            "                                                                 \n",
            " gru_1 (GRU)                 (None, 75)                34200     \n",
            "                                                                 \n",
            " dropout_1 (Dropout)         (None, 75)                0         \n",
            "                                                                 \n",
            " dense (Dense)               (None, 1)                 76        \n",
            "                                                                 \n",
            "=================================================================\n",
            "Total params: 51826 (202.45 KB)\n",
            "Trainable params: 51826 (202.45 KB)\n",
            "Non-trainable params: 0 (0.00 Byte)\n",
            "_________________________________________________________________\n"
          ]
        }
      ]
    },
    {
      "cell_type": "markdown",
      "source": [
        "# Evaluation"
      ],
      "metadata": {
        "id": "TJ71j9jqjLCk"
      }
    },
    {
      "cell_type": "code",
      "source": [
        "predicted_stock_price_rescale= scaler.inverse_transform(predicted_stock_price.reshape(-1, 1))\n",
        "y_test = scaler.inverse_transform(y_test.reshape(-1, 1))\n",
        "gru_predictions_rescale= scaler.inverse_transform(gru_predictions.reshape(-1, 1))"
      ],
      "metadata": {
        "id": "8u9hHHy5UKax"
      },
      "execution_count": 23,
      "outputs": []
    },
    {
      "cell_type": "code",
      "source": [
        "def evaluate_model(predictions, actual):\n",
        "    r2 = r2_score(actual, predictions)\n",
        "    mape = mean_absolute_percentage_error(actual, predictions)\n",
        "\n",
        "    rmse = np.sqrt(mean_squared_error(actual, predictions))\n",
        "    mse= mean_squared_error(actual, predictions)\n",
        "    return r2, mape, rmse,mse\n",
        "\n",
        "# Evaluate LSTM\n",
        "lstm_r2, lstm_mape, lstm_rmse,mse = evaluate_model(predicted_stock_price_rescale, y_test)\n",
        "print(f\"LSTM - R2: {lstm_r2}, MAPE: {lstm_mape}, RMSE: {lstm_rmse}, MSE:{mse}\")\n",
        "\n",
        "# Evaluate GRU\n",
        "gru_r2, gru_mape, gru_rmse,mse = evaluate_model(gru_predictions_rescale, y_test)\n",
        "print(f\"GRU - R2: {gru_r2}, MAPE: {gru_mape}, RMSE: {gru_rmse}, MSE:{mse}\")"
      ],
      "metadata": {
        "id": "nP2uQXtmjNFB",
        "colab": {
          "base_uri": "https://localhost:8080/"
        },
        "outputId": "0dac8904-053b-4f70-af4a-6fc8e1bf093b"
      },
      "execution_count": 25,
      "outputs": [
        {
          "output_type": "stream",
          "name": "stdout",
          "text": [
            "LSTM - R2: 0.9855937653031543, MAPE: 0.022871303744308666, RMSE: 673.1734391358909, MSE:453162.4791580431\n",
            "GRU - R2: 0.9904287115828765, MAPE: 0.017761997624949982, RMSE: 548.7024897232174, MSE:301074.4222284574\n"
          ]
        }
      ]
    }
  ]
}